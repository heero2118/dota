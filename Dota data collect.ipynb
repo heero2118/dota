{
 "cells": [
  {
   "cell_type": "code",
   "execution_count": 48,
   "metadata": {},
   "outputs": [],
   "source": [
    "# Initialize\n",
    "import requests\n",
    "import json\n",
    "import pandas as pd\n",
    "import numpy as np\n",
    "from tqdm import tqdm_notebook as tqdm"
   ]
  },
  {
   "cell_type": "code",
   "execution_count": 76,
   "metadata": {},
   "outputs": [
    {
     "name": "stderr",
     "output_type": "stream",
     "text": [
      "C:\\Users\\ushun\\Anaconda3\\envs\\tf1\\lib\\site-packages\\ipykernel_launcher.py:12: TqdmDeprecationWarning: This function will be removed in tqdm==5.0.0\n",
      "Please use `tqdm.notebook.tqdm` instead of `tqdm.tqdm_notebook`\n",
      "  if sys.path[0] == '':\n"
     ]
    },
    {
     "data": {
      "application/vnd.jupyter.widget-view+json": {
       "model_id": "a61885e2826f4356a03f3c0b23523b28",
       "version_major": 2,
       "version_minor": 0
      },
      "text/plain": [
       "  0%|          | 0/99 [00:00<?, ?it/s]"
      ]
     },
     "metadata": {},
     "output_type": "display_data"
    },
    {
     "ename": "KeyError",
     "evalue": "0",
     "output_type": "error",
     "traceback": [
      "\u001b[1;31m---------------------------------------------------------------------------\u001b[0m",
      "\u001b[1;31mKeyError\u001b[0m                                  Traceback (most recent call last)",
      "\u001b[1;32m<ipython-input-76-b1620eb4b5ad>\u001b[0m in \u001b[0;36m<module>\u001b[1;34m\u001b[0m\n\u001b[0;32m     14\u001b[0m     \u001b[0mdata\u001b[0m \u001b[1;33m=\u001b[0m \u001b[0mr\u001b[0m\u001b[1;33m.\u001b[0m\u001b[0mjson\u001b[0m\u001b[1;33m(\u001b[0m\u001b[1;33m)\u001b[0m\u001b[1;33m\u001b[0m\u001b[1;33m\u001b[0m\u001b[0m\n\u001b[0;32m     15\u001b[0m     \u001b[1;32mfor\u001b[0m \u001b[0mj\u001b[0m \u001b[1;32min\u001b[0m \u001b[0mrange\u001b[0m\u001b[1;33m(\u001b[0m\u001b[0mlen\u001b[0m\u001b[1;33m(\u001b[0m\u001b[0mdata\u001b[0m\u001b[1;33m)\u001b[0m\u001b[1;33m)\u001b[0m\u001b[1;33m:\u001b[0m\u001b[1;33m\u001b[0m\u001b[1;33m\u001b[0m\u001b[0m\n\u001b[1;32m---> 16\u001b[1;33m         \u001b[0mmatch_list\u001b[0m\u001b[1;33m.\u001b[0m\u001b[0mappend\u001b[0m\u001b[1;33m(\u001b[0m\u001b[0mdata\u001b[0m\u001b[1;33m[\u001b[0m\u001b[0mj\u001b[0m\u001b[1;33m]\u001b[0m\u001b[1;33m[\u001b[0m\u001b[1;34m'match_id'\u001b[0m\u001b[1;33m]\u001b[0m\u001b[1;33m)\u001b[0m\u001b[1;33m\u001b[0m\u001b[1;33m\u001b[0m\u001b[0m\n\u001b[0m\u001b[0;32m     17\u001b[0m     \u001b[0mlast_match\u001b[0m \u001b[1;33m=\u001b[0m \u001b[0mmatch_list\u001b[0m\u001b[1;33m[\u001b[0m\u001b[1;33m-\u001b[0m\u001b[1;36m1\u001b[0m\u001b[1;33m]\u001b[0m \u001b[1;31m# save the last match ID as the starting point for next batch of request\u001b[0m\u001b[1;33m\u001b[0m\u001b[1;33m\u001b[0m\u001b[0m\n\u001b[0;32m     18\u001b[0m \u001b[1;33m\u001b[0m\u001b[0m\n",
      "\u001b[1;31mKeyError\u001b[0m: 0"
     ]
    }
   ],
   "source": [
    "# Extract randomized match IDs\n",
    "match_list = []\n",
    "\n",
    "# Initial request - pull 100 initial matches\n",
    "r = requests.get('https://api.opendota.com/api/publicMatches')\n",
    "data = r.json()\n",
    "for i in range(len(data)):\n",
    "    match_list.append(data[i]['match_id'])\n",
    "last_match = match_list[-1] # save the last match ID as the starting point for next batch of pull\n",
    "\n",
    "# Make additional requests starting with the last match ID\n",
    "for i in tqdm(range(0,99)):\n",
    "    r = requests.get('https://api.opendota.com/api/publicMatches?less_than_match_id=' + str(last_match))\n",
    "    data = r.json()\n",
    "    for j in range(len(data)):\n",
    "        match_list.append(data[j]['match_id'])\n",
    "    last_match = match_list[-1] # save the last match ID as the starting point for next batch of request\n",
    "\n",
    "# Save down to csv\n",
    "pd.DataFrame(set(match_list)).to_csv('random_match.csv')\n",
    "print('Length: '+ str(len(match_list)) )\n",
    "print('Unique: '+ str(len(set(match_list))) )"
   ]
  },
  {
   "cell_type": "code",
   "execution_count": 78,
   "metadata": {},
   "outputs": [],
   "source": [
    "# Create a formula to download match ID stat from Open Dota\n",
    "import requests, json, time, os\n",
    "def get_match_by_id(match_id):\n",
    "    mid = str(match_id)\n",
    "    # fetch match data\n",
    "    r = requests.get('https://api.opendota.com/api/matches/' + mid)\n",
    "    if r.ok:\n",
    "        data = r.json()\n",
    "        # save data\n",
    "        file = open(os.getcwd() + os.sep + 'matches' + os.sep + mid + '_data.json', 'w')\n",
    "        json.dump(data, file)\n",
    "        file.close()"
   ]
  },
  {
   "cell_type": "code",
   "execution_count": 79,
   "metadata": {},
   "outputs": [
    {
     "name": "stderr",
     "output_type": "stream",
     "text": [
      "C:\\Users\\ushun\\Anaconda3\\envs\\tf1\\lib\\site-packages\\ipykernel_launcher.py:4: TqdmDeprecationWarning: This function will be removed in tqdm==5.0.0\n",
      "Please use `tqdm.notebook.tqdm` instead of `tqdm.tqdm_notebook`\n",
      "  after removing the cwd from sys.path.\n"
     ]
    },
    {
     "data": {
      "application/vnd.jupyter.widget-view+json": {
       "model_id": "e90d73c75b964dff972df12a589eb300",
       "version_major": 2,
       "version_minor": 0
      },
      "text/plain": [
       "  0%|          | 0/10000 [00:00<?, ?it/s]"
      ]
     },
     "metadata": {},
     "output_type": "display_data"
    }
   ],
   "source": [
    "# Collect match data\n",
    "match_list = list(pd.read_csv('random_match.csv')['0'])\n",
    "for i in tqdm(range(0,len(match_list))):\n",
    "    get_match_by_id(match_list[i])"
   ]
  },
  {
   "cell_type": "code",
   "execution_count": 81,
   "metadata": {
    "tags": []
   },
   "outputs": [
    {
     "ename": "ValueError",
     "evalue": "If using all scalar values, you must pass an index",
     "output_type": "error",
     "traceback": [
      "\u001b[1;31m---------------------------------------------------------------------------\u001b[0m",
      "\u001b[1;31mValueError\u001b[0m                                Traceback (most recent call last)",
      "\u001b[1;32m<ipython-input-81-2ec2d46ce6db>\u001b[0m in \u001b[0;36m<module>\u001b[1;34m\u001b[0m\n\u001b[0;32m      3\u001b[0m     \u001b[0mdata\u001b[0m \u001b[1;33m=\u001b[0m \u001b[0mrequests\u001b[0m\u001b[1;33m.\u001b[0m\u001b[0mget\u001b[0m\u001b[1;33m(\u001b[0m\u001b[1;34m'https://api.opendota.com/api/heroStats'\u001b[0m\u001b[1;33m)\u001b[0m\u001b[1;33m.\u001b[0m\u001b[0mjson\u001b[0m\u001b[1;33m(\u001b[0m\u001b[1;33m)\u001b[0m\u001b[1;33m\u001b[0m\u001b[1;33m\u001b[0m\u001b[0m\n\u001b[0;32m      4\u001b[0m     \u001b[0mpd\u001b[0m\u001b[1;33m.\u001b[0m\u001b[0mDataFrame\u001b[0m\u001b[1;33m(\u001b[0m\u001b[0mdata\u001b[0m\u001b[1;33m)\u001b[0m\u001b[1;33m.\u001b[0m\u001b[0mto_csv\u001b[0m\u001b[1;33m(\u001b[0m\u001b[1;34m'hero_stats.csv'\u001b[0m\u001b[1;33m,\u001b[0m \u001b[0mindex\u001b[0m \u001b[1;33m=\u001b[0m \u001b[1;32mFalse\u001b[0m\u001b[1;33m)\u001b[0m\u001b[1;33m\u001b[0m\u001b[1;33m\u001b[0m\u001b[0m\n\u001b[1;32m----> 5\u001b[1;33m \u001b[0mget_hero_stats\u001b[0m\u001b[1;33m(\u001b[0m\u001b[1;33m)\u001b[0m\u001b[1;33m\u001b[0m\u001b[1;33m\u001b[0m\u001b[0m\n\u001b[0m",
      "\u001b[1;32m<ipython-input-81-2ec2d46ce6db>\u001b[0m in \u001b[0;36mget_hero_stats\u001b[1;34m()\u001b[0m\n\u001b[0;32m      2\u001b[0m \u001b[1;32mdef\u001b[0m \u001b[0mget_hero_stats\u001b[0m\u001b[1;33m(\u001b[0m\u001b[1;33m)\u001b[0m\u001b[1;33m:\u001b[0m\u001b[1;33m\u001b[0m\u001b[1;33m\u001b[0m\u001b[0m\n\u001b[0;32m      3\u001b[0m     \u001b[0mdata\u001b[0m \u001b[1;33m=\u001b[0m \u001b[0mrequests\u001b[0m\u001b[1;33m.\u001b[0m\u001b[0mget\u001b[0m\u001b[1;33m(\u001b[0m\u001b[1;34m'https://api.opendota.com/api/heroStats'\u001b[0m\u001b[1;33m)\u001b[0m\u001b[1;33m.\u001b[0m\u001b[0mjson\u001b[0m\u001b[1;33m(\u001b[0m\u001b[1;33m)\u001b[0m\u001b[1;33m\u001b[0m\u001b[1;33m\u001b[0m\u001b[0m\n\u001b[1;32m----> 4\u001b[1;33m     \u001b[0mpd\u001b[0m\u001b[1;33m.\u001b[0m\u001b[0mDataFrame\u001b[0m\u001b[1;33m(\u001b[0m\u001b[0mdata\u001b[0m\u001b[1;33m)\u001b[0m\u001b[1;33m.\u001b[0m\u001b[0mto_csv\u001b[0m\u001b[1;33m(\u001b[0m\u001b[1;34m'hero_stats.csv'\u001b[0m\u001b[1;33m,\u001b[0m \u001b[0mindex\u001b[0m \u001b[1;33m=\u001b[0m \u001b[1;32mFalse\u001b[0m\u001b[1;33m)\u001b[0m\u001b[1;33m\u001b[0m\u001b[1;33m\u001b[0m\u001b[0m\n\u001b[0m\u001b[0;32m      5\u001b[0m \u001b[0mget_hero_stats\u001b[0m\u001b[1;33m(\u001b[0m\u001b[1;33m)\u001b[0m\u001b[1;33m\u001b[0m\u001b[1;33m\u001b[0m\u001b[0m\n",
      "\u001b[1;32m~\\Anaconda3\\envs\\tf1\\lib\\site-packages\\pandas\\core\\frame.py\u001b[0m in \u001b[0;36m__init__\u001b[1;34m(self, data, index, columns, dtype, copy)\u001b[0m\n\u001b[0;32m    527\u001b[0m \u001b[1;33m\u001b[0m\u001b[0m\n\u001b[0;32m    528\u001b[0m         \u001b[1;32melif\u001b[0m \u001b[0misinstance\u001b[0m\u001b[1;33m(\u001b[0m\u001b[0mdata\u001b[0m\u001b[1;33m,\u001b[0m \u001b[0mdict\u001b[0m\u001b[1;33m)\u001b[0m\u001b[1;33m:\u001b[0m\u001b[1;33m\u001b[0m\u001b[1;33m\u001b[0m\u001b[0m\n\u001b[1;32m--> 529\u001b[1;33m             \u001b[0mmgr\u001b[0m \u001b[1;33m=\u001b[0m \u001b[0minit_dict\u001b[0m\u001b[1;33m(\u001b[0m\u001b[0mdata\u001b[0m\u001b[1;33m,\u001b[0m \u001b[0mindex\u001b[0m\u001b[1;33m,\u001b[0m \u001b[0mcolumns\u001b[0m\u001b[1;33m,\u001b[0m \u001b[0mdtype\u001b[0m\u001b[1;33m=\u001b[0m\u001b[0mdtype\u001b[0m\u001b[1;33m)\u001b[0m\u001b[1;33m\u001b[0m\u001b[1;33m\u001b[0m\u001b[0m\n\u001b[0m\u001b[0;32m    530\u001b[0m         \u001b[1;32melif\u001b[0m \u001b[0misinstance\u001b[0m\u001b[1;33m(\u001b[0m\u001b[0mdata\u001b[0m\u001b[1;33m,\u001b[0m \u001b[0mma\u001b[0m\u001b[1;33m.\u001b[0m\u001b[0mMaskedArray\u001b[0m\u001b[1;33m)\u001b[0m\u001b[1;33m:\u001b[0m\u001b[1;33m\u001b[0m\u001b[1;33m\u001b[0m\u001b[0m\n\u001b[0;32m    531\u001b[0m             \u001b[1;32mimport\u001b[0m \u001b[0mnumpy\u001b[0m\u001b[1;33m.\u001b[0m\u001b[0mma\u001b[0m\u001b[1;33m.\u001b[0m\u001b[0mmrecords\u001b[0m \u001b[1;32mas\u001b[0m \u001b[0mmrecords\u001b[0m\u001b[1;33m\u001b[0m\u001b[1;33m\u001b[0m\u001b[0m\n",
      "\u001b[1;32m~\\Anaconda3\\envs\\tf1\\lib\\site-packages\\pandas\\core\\internals\\construction.py\u001b[0m in \u001b[0;36minit_dict\u001b[1;34m(data, index, columns, dtype)\u001b[0m\n\u001b[0;32m    285\u001b[0m             \u001b[0marr\u001b[0m \u001b[1;32mif\u001b[0m \u001b[1;32mnot\u001b[0m \u001b[0mis_datetime64tz_dtype\u001b[0m\u001b[1;33m(\u001b[0m\u001b[0marr\u001b[0m\u001b[1;33m)\u001b[0m \u001b[1;32melse\u001b[0m \u001b[0marr\u001b[0m\u001b[1;33m.\u001b[0m\u001b[0mcopy\u001b[0m\u001b[1;33m(\u001b[0m\u001b[1;33m)\u001b[0m \u001b[1;32mfor\u001b[0m \u001b[0marr\u001b[0m \u001b[1;32min\u001b[0m \u001b[0marrays\u001b[0m\u001b[1;33m\u001b[0m\u001b[1;33m\u001b[0m\u001b[0m\n\u001b[0;32m    286\u001b[0m         ]\n\u001b[1;32m--> 287\u001b[1;33m     \u001b[1;32mreturn\u001b[0m \u001b[0marrays_to_mgr\u001b[0m\u001b[1;33m(\u001b[0m\u001b[0marrays\u001b[0m\u001b[1;33m,\u001b[0m \u001b[0mdata_names\u001b[0m\u001b[1;33m,\u001b[0m \u001b[0mindex\u001b[0m\u001b[1;33m,\u001b[0m \u001b[0mcolumns\u001b[0m\u001b[1;33m,\u001b[0m \u001b[0mdtype\u001b[0m\u001b[1;33m=\u001b[0m\u001b[0mdtype\u001b[0m\u001b[1;33m)\u001b[0m\u001b[1;33m\u001b[0m\u001b[1;33m\u001b[0m\u001b[0m\n\u001b[0m\u001b[0;32m    288\u001b[0m \u001b[1;33m\u001b[0m\u001b[0m\n\u001b[0;32m    289\u001b[0m \u001b[1;33m\u001b[0m\u001b[0m\n",
      "\u001b[1;32m~\\Anaconda3\\envs\\tf1\\lib\\site-packages\\pandas\\core\\internals\\construction.py\u001b[0m in \u001b[0;36marrays_to_mgr\u001b[1;34m(arrays, arr_names, index, columns, dtype, verify_integrity)\u001b[0m\n\u001b[0;32m     78\u001b[0m         \u001b[1;31m# figure out the index, if necessary\u001b[0m\u001b[1;33m\u001b[0m\u001b[1;33m\u001b[0m\u001b[1;33m\u001b[0m\u001b[0m\n\u001b[0;32m     79\u001b[0m         \u001b[1;32mif\u001b[0m \u001b[0mindex\u001b[0m \u001b[1;32mis\u001b[0m \u001b[1;32mNone\u001b[0m\u001b[1;33m:\u001b[0m\u001b[1;33m\u001b[0m\u001b[1;33m\u001b[0m\u001b[0m\n\u001b[1;32m---> 80\u001b[1;33m             \u001b[0mindex\u001b[0m \u001b[1;33m=\u001b[0m \u001b[0mextract_index\u001b[0m\u001b[1;33m(\u001b[0m\u001b[0marrays\u001b[0m\u001b[1;33m)\u001b[0m\u001b[1;33m\u001b[0m\u001b[1;33m\u001b[0m\u001b[0m\n\u001b[0m\u001b[0;32m     81\u001b[0m         \u001b[1;32melse\u001b[0m\u001b[1;33m:\u001b[0m\u001b[1;33m\u001b[0m\u001b[1;33m\u001b[0m\u001b[0m\n\u001b[0;32m     82\u001b[0m             \u001b[0mindex\u001b[0m \u001b[1;33m=\u001b[0m \u001b[0mensure_index\u001b[0m\u001b[1;33m(\u001b[0m\u001b[0mindex\u001b[0m\u001b[1;33m)\u001b[0m\u001b[1;33m\u001b[0m\u001b[1;33m\u001b[0m\u001b[0m\n",
      "\u001b[1;32m~\\Anaconda3\\envs\\tf1\\lib\\site-packages\\pandas\\core\\internals\\construction.py\u001b[0m in \u001b[0;36mextract_index\u001b[1;34m(data)\u001b[0m\n\u001b[0;32m    389\u001b[0m \u001b[1;33m\u001b[0m\u001b[0m\n\u001b[0;32m    390\u001b[0m         \u001b[1;32mif\u001b[0m \u001b[1;32mnot\u001b[0m \u001b[0mindexes\u001b[0m \u001b[1;32mand\u001b[0m \u001b[1;32mnot\u001b[0m \u001b[0mraw_lengths\u001b[0m\u001b[1;33m:\u001b[0m\u001b[1;33m\u001b[0m\u001b[1;33m\u001b[0m\u001b[0m\n\u001b[1;32m--> 391\u001b[1;33m             \u001b[1;32mraise\u001b[0m \u001b[0mValueError\u001b[0m\u001b[1;33m(\u001b[0m\u001b[1;34m\"If using all scalar values, you must pass an index\"\u001b[0m\u001b[1;33m)\u001b[0m\u001b[1;33m\u001b[0m\u001b[1;33m\u001b[0m\u001b[0m\n\u001b[0m\u001b[0;32m    392\u001b[0m \u001b[1;33m\u001b[0m\u001b[0m\n\u001b[0;32m    393\u001b[0m         \u001b[1;32mif\u001b[0m \u001b[0mhave_series\u001b[0m\u001b[1;33m:\u001b[0m\u001b[1;33m\u001b[0m\u001b[1;33m\u001b[0m\u001b[0m\n",
      "\u001b[1;31mValueError\u001b[0m: If using all scalar values, you must pass an index"
     ]
    }
   ],
   "source": [
    "# Retrieve and save latest hero information\n",
    "def get_hero_stats():\n",
    "    data = requests.get('https://api.opendota.com/api/heroStats').json()\n",
    "    pd.DataFrame(data).to_csv('hero_stats.csv', index = False)\n",
    "get_hero_stats()"
   ]
  },
  {
   "cell_type": "code",
   "execution_count": 86,
   "metadata": {},
   "outputs": [
    {
     "name": "stderr",
     "output_type": "stream",
     "text": [
      "C:\\Users\\ushun\\Anaconda3\\envs\\tf1\\lib\\site-packages\\ipykernel_launcher.py:8: TqdmDeprecationWarning: This function will be removed in tqdm==5.0.0\n",
      "Please use `tqdm.notebook.tqdm` instead of `tqdm.tqdm_notebook`\n",
      "  \n"
     ]
    },
    {
     "data": {
      "application/vnd.jupyter.widget-view+json": {
       "model_id": "c8c1cc62526c4d9d8138282587fbc14f",
       "version_major": 2,
       "version_minor": 0
      },
      "text/plain": [
       "  0%|          | 0/2416 [00:00<?, ?it/s]"
      ]
     },
     "metadata": {},
     "output_type": "display_data"
    },
    {
     "name": "stdout",
     "output_type": "stream",
     "text": [
      "Error: 0\n",
      "Bot: 0\n",
      "No pick data: 0\n",
      "W/o 10 picks: 629\n",
      "Dataset: 1614\n"
     ]
    }
   ],
   "source": [
    "# Consolidate key data in a dataframe\n",
    "df1 = []\n",
    "error_count = 0\n",
    "bot_match = 0\n",
    "no_pick = 0\n",
    "not_ten_picks = 0\n",
    "\n",
    "for f in tqdm(os.listdir(os.getcwd() + os.sep + 'matches')):\n",
    "    if os.path.isdir(f):  # skip subdirectories (folders)\n",
    "        continue\n",
    "    file = open(os.getcwd() + os.sep + 'matches' + os.sep + f)\n",
    "    data = json.load(file)\n",
    "    file.close()\n",
    "    \n",
    "    # filter for game mode: all pick (value = 2)\n",
    "    if data['game_mode'] not in [22]:\n",
    "        continue\n",
    "    \n",
    "    # skip errors\n",
    "    if 'error' in data.keys():\n",
    "        error_count = error_count + 1\n",
    "        continue\n",
    "\n",
    "    # skip matches with bots\n",
    "    if data['human_players'] != 10:\n",
    "        bot_match = bot_match + 1\n",
    "        continue\n",
    "    \n",
    "    # skip matches with no pick data\n",
    "    if not data['picks_bans']:\n",
    "        no_pick = no_pick + 1\n",
    "        continue\n",
    "        \n",
    "    # skip matches without 10 picks\n",
    "    if pd.DataFrame(data['picks_bans']).is_pick.sum() != 10:\n",
    "        not_ten_picks = not_ten_picks + 1\n",
    "        continue\n",
    "    \n",
    "    # assign team (radiant = team 0)\n",
    "    win_team = 0\n",
    "    if data['radiant_win'] == False:\n",
    "        win_team = 1\n",
    "    \n",
    "    # get hero pick data\n",
    "    picks = pd.DataFrame(data['picks_bans'])\n",
    "    picks = picks[picks.is_pick == True] # drop bans\n",
    "    picks = picks.sort_values('order')\n",
    "    \n",
    "    # append all match information\n",
    "    df_temp = [data['match_id'],      # match ID\n",
    "               data['duration'],      # game duration\n",
    "               win_team,              # winning team (0=radiant, 1=dire)\n",
    "               data['radiant_score'], # radiant final score\n",
    "               data['dire_score'],    # dire final score\n",
    "               data['skill']          # Valve's assigned skill level of the game\n",
    "              ]\n",
    "    # skip matches without a 5v5 pick\n",
    "    if (picks[picks.team==win_team].shape[0] !=5) or (picks[picks.team!=win_team].shape[0] !=5) : \n",
    "        continue\n",
    "    # winning team's hero IDs\n",
    "    for j in range(0,5):\n",
    "        df_temp.append(picks[picks.team==win_team].iloc[j,1])\n",
    "    # losing team's hero IDs\n",
    "    for k in range(0,5):\n",
    "        df_temp.append(picks[picks.team!=win_team].iloc[k,1])\n",
    "    df1.append(df_temp)\n",
    "df = pd.DataFrame(df1, columns = ['match_id','duration','win_team','score_r','score_d','skill','w1','w2','w3','w4','w5','l1','l2','l3','l4','l5'])\n",
    "\n",
    "# Print results\n",
    "print('Error: '        + str(error_count))\n",
    "print('Bot: '          + str(bot_match))\n",
    "print('No pick data: ' + str(no_pick))\n",
    "print('W/o 10 picks: ' + str(not_ten_picks))\n",
    "print('Dataset: '      + str(df.shape[0]))"
   ]
  },
  {
   "cell_type": "code",
   "execution_count": 87,
   "metadata": {},
   "outputs": [
    {
     "data": {
      "text/html": [
       "<div>\n",
       "<style scoped>\n",
       "    .dataframe tbody tr th:only-of-type {\n",
       "        vertical-align: middle;\n",
       "    }\n",
       "\n",
       "    .dataframe tbody tr th {\n",
       "        vertical-align: top;\n",
       "    }\n",
       "\n",
       "    .dataframe thead th {\n",
       "        text-align: right;\n",
       "    }\n",
       "</style>\n",
       "<table border=\"1\" class=\"dataframe\">\n",
       "  <thead>\n",
       "    <tr style=\"text-align: right;\">\n",
       "      <th></th>\n",
       "      <th>match_id</th>\n",
       "      <th>duration</th>\n",
       "      <th>win_team</th>\n",
       "      <th>score_r</th>\n",
       "      <th>score_d</th>\n",
       "      <th>skill</th>\n",
       "      <th>w1</th>\n",
       "      <th>w2</th>\n",
       "      <th>w3</th>\n",
       "      <th>w4</th>\n",
       "      <th>w5</th>\n",
       "      <th>l1</th>\n",
       "      <th>l2</th>\n",
       "      <th>l3</th>\n",
       "      <th>l4</th>\n",
       "      <th>l5</th>\n",
       "    </tr>\n",
       "  </thead>\n",
       "  <tbody>\n",
       "    <tr>\n",
       "      <th>0</th>\n",
       "      <td>6374093605</td>\n",
       "      <td>3205</td>\n",
       "      <td>0</td>\n",
       "      <td>44</td>\n",
       "      <td>35</td>\n",
       "      <td>None</td>\n",
       "      <td>9</td>\n",
       "      <td>71</td>\n",
       "      <td>50</td>\n",
       "      <td>22</td>\n",
       "      <td>46</td>\n",
       "      <td>119</td>\n",
       "      <td>83</td>\n",
       "      <td>21</td>\n",
       "      <td>99</td>\n",
       "      <td>1</td>\n",
       "    </tr>\n",
       "    <tr>\n",
       "      <th>1</th>\n",
       "      <td>6374093612</td>\n",
       "      <td>2671</td>\n",
       "      <td>0</td>\n",
       "      <td>47</td>\n",
       "      <td>26</td>\n",
       "      <td>None</td>\n",
       "      <td>40</td>\n",
       "      <td>75</td>\n",
       "      <td>22</td>\n",
       "      <td>99</td>\n",
       "      <td>42</td>\n",
       "      <td>105</td>\n",
       "      <td>52</td>\n",
       "      <td>44</td>\n",
       "      <td>11</td>\n",
       "      <td>35</td>\n",
       "    </tr>\n",
       "    <tr>\n",
       "      <th>2</th>\n",
       "      <td>6374093615</td>\n",
       "      <td>2172</td>\n",
       "      <td>0</td>\n",
       "      <td>66</td>\n",
       "      <td>40</td>\n",
       "      <td>None</td>\n",
       "      <td>84</td>\n",
       "      <td>85</td>\n",
       "      <td>70</td>\n",
       "      <td>10</td>\n",
       "      <td>136</td>\n",
       "      <td>121</td>\n",
       "      <td>120</td>\n",
       "      <td>29</td>\n",
       "      <td>48</td>\n",
       "      <td>101</td>\n",
       "    </tr>\n",
       "    <tr>\n",
       "      <th>3</th>\n",
       "      <td>6374093618</td>\n",
       "      <td>1567</td>\n",
       "      <td>0</td>\n",
       "      <td>35</td>\n",
       "      <td>16</td>\n",
       "      <td>None</td>\n",
       "      <td>34</td>\n",
       "      <td>64</td>\n",
       "      <td>48</td>\n",
       "      <td>99</td>\n",
       "      <td>35</td>\n",
       "      <td>25</td>\n",
       "      <td>26</td>\n",
       "      <td>78</td>\n",
       "      <td>94</td>\n",
       "      <td>126</td>\n",
       "    </tr>\n",
       "    <tr>\n",
       "      <th>4</th>\n",
       "      <td>6374093619</td>\n",
       "      <td>2235</td>\n",
       "      <td>0</td>\n",
       "      <td>41</td>\n",
       "      <td>30</td>\n",
       "      <td>None</td>\n",
       "      <td>87</td>\n",
       "      <td>84</td>\n",
       "      <td>78</td>\n",
       "      <td>10</td>\n",
       "      <td>41</td>\n",
       "      <td>14</td>\n",
       "      <td>50</td>\n",
       "      <td>29</td>\n",
       "      <td>67</td>\n",
       "      <td>34</td>\n",
       "    </tr>\n",
       "  </tbody>\n",
       "</table>\n",
       "</div>"
      ],
      "text/plain": [
       "     match_id  duration  win_team  score_r  score_d skill  w1  w2  w3  w4  \\\n",
       "0  6374093605      3205         0       44       35  None   9  71  50  22   \n",
       "1  6374093612      2671         0       47       26  None  40  75  22  99   \n",
       "2  6374093615      2172         0       66       40  None  84  85  70  10   \n",
       "3  6374093618      1567         0       35       16  None  34  64  48  99   \n",
       "4  6374093619      2235         0       41       30  None  87  84  78  10   \n",
       "\n",
       "    w5   l1   l2  l3  l4   l5  \n",
       "0   46  119   83  21  99    1  \n",
       "1   42  105   52  44  11   35  \n",
       "2  136  121  120  29  48  101  \n",
       "3   35   25   26  78  94  126  \n",
       "4   41   14   50  29  67   34  "
      ]
     },
     "execution_count": 87,
     "metadata": {},
     "output_type": "execute_result"
    }
   ],
   "source": [
    "# Save output\n",
    "df.to_csv('data.csv',index=False)\n",
    "df.head()"
   ]
  },
  {
   "cell_type": "code",
   "execution_count": 89,
   "metadata": {},
   "outputs": [
    {
     "data": {
      "text/plain": [
       "(1614, 16)"
      ]
     },
     "execution_count": 89,
     "metadata": {},
     "output_type": "execute_result"
    }
   ],
   "source": [
    "df.shape"
   ]
  },
  {
   "cell_type": "code",
   "execution_count": 90,
   "metadata": {},
   "outputs": [],
   "source": [
    "# Create formula to lookup a list of hero names from their hero IDs\n",
    "df_heroes = pd.read_csv('hero_stats.csv')[['localized_name','hero_id']]\n",
    "lookup = {k:v for k,v in zip(df_heroes.hero_id, df_heroes.localized_name)}\n",
    "def id2name(ids):\n",
    "    return [lookup[i] for i in ids]\n",
    "\n",
    "# Map hero names into the main Dataframe\n",
    "df_named = df.copy()\n",
    "for i in df_named.columns[6:]:\n",
    "    df_named[i] = id2name(df_named[i])"
   ]
  },
  {
   "cell_type": "code",
   "execution_count": 91,
   "metadata": {},
   "outputs": [
    {
     "data": {
      "text/html": [
       "<div>\n",
       "<style scoped>\n",
       "    .dataframe tbody tr th:only-of-type {\n",
       "        vertical-align: middle;\n",
       "    }\n",
       "\n",
       "    .dataframe tbody tr th {\n",
       "        vertical-align: top;\n",
       "    }\n",
       "\n",
       "    .dataframe thead th {\n",
       "        text-align: right;\n",
       "    }\n",
       "</style>\n",
       "<table border=\"1\" class=\"dataframe\">\n",
       "  <thead>\n",
       "    <tr style=\"text-align: right;\">\n",
       "      <th></th>\n",
       "      <th>match_id</th>\n",
       "      <th>duration</th>\n",
       "      <th>win_team</th>\n",
       "      <th>score_r</th>\n",
       "      <th>score_d</th>\n",
       "      <th>skill</th>\n",
       "      <th>w1</th>\n",
       "      <th>w2</th>\n",
       "      <th>w3</th>\n",
       "      <th>w4</th>\n",
       "      <th>w5</th>\n",
       "      <th>l1</th>\n",
       "      <th>l2</th>\n",
       "      <th>l3</th>\n",
       "      <th>l4</th>\n",
       "      <th>l5</th>\n",
       "    </tr>\n",
       "  </thead>\n",
       "  <tbody>\n",
       "    <tr>\n",
       "      <th>0</th>\n",
       "      <td>6374093605</td>\n",
       "      <td>3205</td>\n",
       "      <td>0</td>\n",
       "      <td>44</td>\n",
       "      <td>35</td>\n",
       "      <td>None</td>\n",
       "      <td>Mirana</td>\n",
       "      <td>Spirit Breaker</td>\n",
       "      <td>Dazzle</td>\n",
       "      <td>Zeus</td>\n",
       "      <td>Templar Assassin</td>\n",
       "      <td>Dark Willow</td>\n",
       "      <td>Treant Protector</td>\n",
       "      <td>Windranger</td>\n",
       "      <td>Bristleback</td>\n",
       "      <td>Anti-Mage</td>\n",
       "    </tr>\n",
       "    <tr>\n",
       "      <th>1</th>\n",
       "      <td>6374093612</td>\n",
       "      <td>2671</td>\n",
       "      <td>0</td>\n",
       "      <td>47</td>\n",
       "      <td>26</td>\n",
       "      <td>None</td>\n",
       "      <td>Venomancer</td>\n",
       "      <td>Silencer</td>\n",
       "      <td>Zeus</td>\n",
       "      <td>Bristleback</td>\n",
       "      <td>Wraith King</td>\n",
       "      <td>Techies</td>\n",
       "      <td>Leshrac</td>\n",
       "      <td>Phantom Assassin</td>\n",
       "      <td>Shadow Fiend</td>\n",
       "      <td>Sniper</td>\n",
       "    </tr>\n",
       "    <tr>\n",
       "      <th>2</th>\n",
       "      <td>6374093615</td>\n",
       "      <td>2172</td>\n",
       "      <td>0</td>\n",
       "      <td>66</td>\n",
       "      <td>40</td>\n",
       "      <td>None</td>\n",
       "      <td>Ogre Magi</td>\n",
       "      <td>Undying</td>\n",
       "      <td>Ursa</td>\n",
       "      <td>Morphling</td>\n",
       "      <td>Marci</td>\n",
       "      <td>Grimstroke</td>\n",
       "      <td>Pangolier</td>\n",
       "      <td>Tidehunter</td>\n",
       "      <td>Luna</td>\n",
       "      <td>Skywrath Mage</td>\n",
       "    </tr>\n",
       "    <tr>\n",
       "      <th>3</th>\n",
       "      <td>6374093618</td>\n",
       "      <td>1567</td>\n",
       "      <td>0</td>\n",
       "      <td>35</td>\n",
       "      <td>16</td>\n",
       "      <td>None</td>\n",
       "      <td>Tinker</td>\n",
       "      <td>Jakiro</td>\n",
       "      <td>Luna</td>\n",
       "      <td>Bristleback</td>\n",
       "      <td>Sniper</td>\n",
       "      <td>Lina</td>\n",
       "      <td>Lion</td>\n",
       "      <td>Brewmaster</td>\n",
       "      <td>Medusa</td>\n",
       "      <td>Void Spirit</td>\n",
       "    </tr>\n",
       "    <tr>\n",
       "      <th>4</th>\n",
       "      <td>6374093619</td>\n",
       "      <td>2235</td>\n",
       "      <td>0</td>\n",
       "      <td>41</td>\n",
       "      <td>30</td>\n",
       "      <td>None</td>\n",
       "      <td>Disruptor</td>\n",
       "      <td>Ogre Magi</td>\n",
       "      <td>Brewmaster</td>\n",
       "      <td>Morphling</td>\n",
       "      <td>Faceless Void</td>\n",
       "      <td>Pudge</td>\n",
       "      <td>Dazzle</td>\n",
       "      <td>Tidehunter</td>\n",
       "      <td>Spectre</td>\n",
       "      <td>Tinker</td>\n",
       "    </tr>\n",
       "  </tbody>\n",
       "</table>\n",
       "</div>"
      ],
      "text/plain": [
       "     match_id  duration  win_team  score_r  score_d skill          w1  \\\n",
       "0  6374093605      3205         0       44       35  None      Mirana   \n",
       "1  6374093612      2671         0       47       26  None  Venomancer   \n",
       "2  6374093615      2172         0       66       40  None   Ogre Magi   \n",
       "3  6374093618      1567         0       35       16  None      Tinker   \n",
       "4  6374093619      2235         0       41       30  None   Disruptor   \n",
       "\n",
       "               w2          w3           w4                w5           l1  \\\n",
       "0  Spirit Breaker      Dazzle         Zeus  Templar Assassin  Dark Willow   \n",
       "1        Silencer        Zeus  Bristleback       Wraith King      Techies   \n",
       "2         Undying        Ursa    Morphling             Marci   Grimstroke   \n",
       "3          Jakiro        Luna  Bristleback            Sniper         Lina   \n",
       "4       Ogre Magi  Brewmaster    Morphling     Faceless Void        Pudge   \n",
       "\n",
       "                 l2                l3            l4             l5  \n",
       "0  Treant Protector        Windranger   Bristleback      Anti-Mage  \n",
       "1           Leshrac  Phantom Assassin  Shadow Fiend         Sniper  \n",
       "2         Pangolier        Tidehunter          Luna  Skywrath Mage  \n",
       "3              Lion        Brewmaster        Medusa    Void Spirit  \n",
       "4            Dazzle        Tidehunter       Spectre         Tinker  "
      ]
     },
     "execution_count": 91,
     "metadata": {},
     "output_type": "execute_result"
    }
   ],
   "source": [
    "# Save output\n",
    "df_named.to_csv('data_named.csv',index=False)\n",
    "df_named.head()"
   ]
  },
  {
   "cell_type": "code",
   "execution_count": 92,
   "metadata": {},
   "outputs": [
    {
     "data": {
      "text/plain": [
       "(1614, 16)"
      ]
     },
     "execution_count": 92,
     "metadata": {},
     "output_type": "execute_result"
    }
   ],
   "source": [
    "df_named.shape"
   ]
  }
 ],
 "metadata": {
  "kernelspec": {
   "display_name": "Python 3",
   "language": "python",
   "name": "python3"
  },
  "language_info": {
   "codemirror_mode": {
    "name": "ipython",
    "version": 3
   },
   "file_extension": ".py",
   "mimetype": "text/x-python",
   "name": "python",
   "nbconvert_exporter": "python",
   "pygments_lexer": "ipython3",
   "version": "3.7.10"
  }
 },
 "nbformat": 4,
 "nbformat_minor": 4
}
